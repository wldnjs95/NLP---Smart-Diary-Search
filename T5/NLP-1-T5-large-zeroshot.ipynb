{
  "cells": [
    {
      "cell_type": "markdown",
      "source": [
        "# T5-Large Zeroshot"
      ],
      "metadata": {
        "id": "zIyx0X4_dyll"
      },
      "id": "zIyx0X4_dyll"
    },
    {
      "cell_type": "code",
      "id": "uLFQmJmsr2Hk8TIcxvgJEb5X",
      "metadata": {
        "tags": [],
        "id": "uLFQmJmsr2Hk8TIcxvgJEb5X",
        "colab": {
          "base_uri": "https://localhost:8080/"
        },
        "executionInfo": {
          "status": "ok",
          "timestamp": 1731440313311,
          "user_tz": 360,
          "elapsed": 8321,
          "user": {
            "displayName": "",
            "userId": ""
          }
        },
        "outputId": "a9db9b75-b4e6-4462-afc8-6c256b24f21a"
      },
      "source": [
        "!pip install transformers\n",
        "!pip install torch"
      ],
      "execution_count": null,
      "outputs": [
        {
          "output_type": "stream",
          "name": "stdout",
          "text": [
            "Requirement already satisfied: transformers in /usr/local/lib/python3.10/dist-packages (4.46.2)\n",
            "Requirement already satisfied: filelock in /usr/local/lib/python3.10/dist-packages (from transformers) (3.16.1)\n",
            "Requirement already satisfied: huggingface-hub<1.0,>=0.23.2 in /usr/local/lib/python3.10/dist-packages (from transformers) (0.24.7)\n",
            "Requirement already satisfied: numpy>=1.17 in /usr/local/lib/python3.10/dist-packages (from transformers) (1.26.4)\n",
            "Requirement already satisfied: packaging>=20.0 in /usr/local/lib/python3.10/dist-packages (from transformers) (24.1)\n",
            "Requirement already satisfied: pyyaml>=5.1 in /usr/local/lib/python3.10/dist-packages (from transformers) (6.0.2)\n",
            "Requirement already satisfied: regex!=2019.12.17 in /usr/local/lib/python3.10/dist-packages (from transformers) (2024.9.11)\n",
            "Requirement already satisfied: requests in /usr/local/lib/python3.10/dist-packages (from transformers) (2.32.3)\n",
            "Requirement already satisfied: safetensors>=0.4.1 in /usr/local/lib/python3.10/dist-packages (from transformers) (0.4.5)\n",
            "Requirement already satisfied: tokenizers<0.21,>=0.20 in /usr/local/lib/python3.10/dist-packages (from transformers) (0.20.3)\n",
            "Requirement already satisfied: tqdm>=4.27 in /usr/local/lib/python3.10/dist-packages (from transformers) (4.66.5)\n",
            "Requirement already satisfied: fsspec>=2023.5.0 in /usr/local/lib/python3.10/dist-packages (from huggingface-hub<1.0,>=0.23.2->transformers) (2024.6.1)\n",
            "Requirement already satisfied: typing-extensions>=3.7.4.3 in /usr/local/lib/python3.10/dist-packages (from huggingface-hub<1.0,>=0.23.2->transformers) (4.12.2)\n",
            "Requirement already satisfied: charset-normalizer<4,>=2 in /usr/local/lib/python3.10/dist-packages (from requests->transformers) (3.4.0)\n",
            "Requirement already satisfied: idna<4,>=2.5 in /usr/local/lib/python3.10/dist-packages (from requests->transformers) (3.10)\n",
            "Requirement already satisfied: urllib3<3,>=1.21.1 in /usr/local/lib/python3.10/dist-packages (from requests->transformers) (2.2.3)\n",
            "Requirement already satisfied: certifi>=2017.4.17 in /usr/local/lib/python3.10/dist-packages (from requests->transformers) (2024.8.30)\n",
            "Requirement already satisfied: torch in /usr/local/lib/python3.10/dist-packages (2.4.1+cu121)\n",
            "Requirement already satisfied: filelock in /usr/local/lib/python3.10/dist-packages (from torch) (3.16.1)\n",
            "Requirement already satisfied: typing-extensions>=4.8.0 in /usr/local/lib/python3.10/dist-packages (from torch) (4.12.2)\n",
            "Requirement already satisfied: sympy in /usr/local/lib/python3.10/dist-packages (from torch) (1.13.3)\n",
            "Requirement already satisfied: networkx in /usr/local/lib/python3.10/dist-packages (from torch) (3.4.1)\n",
            "Requirement already satisfied: jinja2 in /usr/local/lib/python3.10/dist-packages (from torch) (3.1.4)\n",
            "Requirement already satisfied: fsspec in /usr/local/lib/python3.10/dist-packages (from torch) (2024.6.1)\n",
            "Requirement already satisfied: MarkupSafe>=2.0 in /usr/local/lib/python3.10/dist-packages (from jinja2->torch) (3.0.1)\n",
            "Requirement already satisfied: mpmath<1.4,>=1.1.0 in /usr/local/lib/python3.10/dist-packages (from sympy->torch) (1.3.0)\n"
          ]
        }
      ]
    },
    {
      "cell_type": "code",
      "source": [
        "from transformers import pipeline\n",
        "\n",
        "# t5-pipeline\n",
        "t5_pipeline = pipeline(\"text2text-generation\", model=\"t5-large\",device=0)\n",
        "\n",
        "# sample diary entry\n",
        "diary_entry = \"\"\"I wasn’t able to attend the meeting with Dan.\n",
        "My car broke down in the middle of nowhere, so I had to pull over and wait for help.\n",
        " It was a total disaster. I had to rearrange my schedule as soon as I got back.\n",
        " \"\"\"\n",
        "\n",
        "# prompt for each keyword category\n",
        "prompts = {\n",
        "    \"event\": f\"Extract the main events from this diary entry: {diary_entry}\",\n",
        "    \"action\": f\"List the actions taken in this diary entry: {diary_entry}\",\n",
        "    \"time\": f\"Identify any time-related information in this diary entry: {diary_entry}\",\n",
        "    \"thoughts\": f\"Extract the thoughts or feelings expressed in this diary entry: {diary_entry}\",\n",
        "}\n",
        "\n",
        "# zeroshot results\n",
        "results = {}\n",
        "for key, prompt in prompts.items():\n",
        "    response = t5_pipeline(prompt, max_length=100, num_return_sequences=1)\n",
        "    results[key] = response[0]['generated_text']\n",
        "\n",
        "for key, text in results.items():\n",
        "    print(f\"{key.capitalize()}:\\n{text}\\n\")"
      ],
      "metadata": {
        "colab": {
          "base_uri": "https://localhost:8080/"
        },
        "id": "-O5xYwI2NMUC",
        "executionInfo": {
          "status": "ok",
          "timestamp": 1733881834424,
          "user_tz": 360,
          "elapsed": 14536,
          "user": {
            "displayName": "",
            "userId": ""
          }
        },
        "outputId": "676cadf9-e758-4727-cb76-32f286311620"
      },
      "id": "-O5xYwI2NMUC",
      "execution_count": 9,
      "outputs": [
        {
          "output_type": "stream",
          "name": "stdout",
          "text": [
            "Event:\n",
            ": I was so busy that I couldn’t attend the meeting with Dan. I was so busy that I couldn’t attend the meeting with Dan. because my car broke down. I was unable to attend the meeting with Dan. .::: I was too busy. I couldn’t attend the meeting with Dan. diary entry:........\n",
            "\n",
            "Action:\n",
            ": I was so busy that I couldn’t attend the meeting with Dan. I was so busy that I couldn’t attend the meeting with Dan. because my car broke down. I had to cancel the meeting with Dan..:::: I had to cancel the meeting with Dan..... action: I was I had to. I had to.:\n",
            "\n",
            "Time:\n",
            ": I was so busy that I couldn’t attend the meeting with Dan.s I was so busy that I couldn’t attend the meeting with Dan. I was so busy that I couldn’t attend the meeting with Dan. Identify any time-related information in this diary entry:::: I was in the middle of nowhere.....:::.:\n",
            "\n",
            "Thoughts:\n",
            ": I was so busy that I couldn’t attend the meeting with Dan. I was so busy that I couldn’t attend the meeting with Dan. because my car broke down. I was so busy that I couldn’t attend the meeting with Dan.:::: I was too busy I couldn’t attend the meeting with Dan::::::::::\n",
            "\n"
          ]
        }
      ]
    },
    {
      "cell_type": "markdown",
      "source": [
        "The results show that the extracted information is repetitive and lacks clarity, making it difficult to identify meaningful insights. This suggests the need for refining the approach to achieve more accurate and concise outputs."
      ],
      "metadata": {
        "id": "_vtDtBycuSYw"
      },
      "id": "_vtDtBycuSYw"
    }
  ],
  "metadata": {
    "kernelspec": {
      "display_name": "Python 3",
      "language": "python",
      "name": "python3"
    },
    "language_info": {
      "codemirror_mode": {
        "name": "ipython",
        "version": 3
      },
      "file_extension": ".py",
      "mimetype": "text/x-python",
      "name": "python",
      "nbconvert_exporter": "python",
      "pygments_lexer": "ipython3",
      "version": "3.10.10"
    },
    "colab": {
      "provenance": [],
      "name": "NLP-1-T5-zero"
    }
  },
  "nbformat": 4,
  "nbformat_minor": 5
}